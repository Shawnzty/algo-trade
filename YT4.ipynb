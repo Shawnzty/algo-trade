{
 "cells": [
  {
   "cell_type": "code",
   "execution_count": 10,
   "metadata": {},
   "outputs": [],
   "source": [
    "import yfinance as yf\n",
    "import pandas as pd\n",
    "import numpy as np\n",
    "import matplotlib.pyplot as plt\n",
    "import seaborn as sns\n",
    "%matplotlib inline"
   ]
  },
  {
   "attachments": {},
   "cell_type": "markdown",
   "metadata": {},
   "source": [
    "### Creating our first function"
   ]
  },
  {
   "cell_type": "code",
   "execution_count": 11,
   "metadata": {},
   "outputs": [],
   "source": [
    "def test_strategy(stock, start, end, SMA):\n",
    "    df = yf.download(stock, start = start, end = end)\n",
    "    data = df.Close.to_frame()\n",
    "    data[\"returns\"] = np.log(data.Close / data.Close.shift(1))\n",
    "    data[\"SMA_S\"] = data.Close.rolling(int(SMA[0])).mean()\n",
    "    data[\"SMA_L\"] = data.Close.rolling(int(SMA[1])).mean()\n",
    "    data.dropna(inplace=True)\n",
    "\n",
    "    data['Position'] = np.where(data[\"SMA_S\"] > data[\"SMA_L\"], 1, -1)\n",
    "    data['Strategy'] = data['Position'].shift(1) * data['returns']\n",
    "    data.dropna(inplace=True)\n",
    "    ret=np.exp(data[\"Strategy\"].sum())\n",
    "    std = data[\"Strategy\"].std()*np.sqrt(252)\n",
    "    \n",
    "    return ret, std"
   ]
  },
  {
   "cell_type": "code",
   "execution_count": 12,
   "metadata": {},
   "outputs": [
    {
     "name": "stdout",
     "output_type": "stream",
     "text": [
      "[*********************100%***********************]  1 of 1 completed\n"
     ]
    },
    {
     "data": {
      "text/plain": [
       "(0.39097954932295986, 0.2906766831415824)"
      ]
     },
     "execution_count": 12,
     "metadata": {},
     "output_type": "execute_result"
    }
   ],
   "source": [
    "test_strategy(\"MSFT\", \"2000-01-01\", \"2020-01-01\", (50,200))"
   ]
  },
  {
   "cell_type": "code",
   "execution_count": 13,
   "metadata": {},
   "outputs": [
    {
     "name": "stdout",
     "output_type": "stream",
     "text": [
      "[*********************100%***********************]  1 of 1 completed\n"
     ]
    },
    {
     "data": {
      "text/plain": [
       "(16.540320732436786, 0.3669968290380402)"
      ]
     },
     "execution_count": 13,
     "metadata": {},
     "output_type": "execute_result"
    }
   ],
   "source": [
    "test_strategy(\"AAPL\", \"2000-01-01\", \"2020-01-01\", (50,200))"
   ]
  },
  {
   "cell_type": "code",
   "execution_count": 14,
   "metadata": {},
   "outputs": [
    {
     "name": "stdout",
     "output_type": "stream",
     "text": [
      "[*********************100%***********************]  1 of 1 completed\n"
     ]
    },
    {
     "data": {
      "text/plain": [
       "(1.3908153866370587, 0.49564569049996726)"
      ]
     },
     "execution_count": 14,
     "metadata": {},
     "output_type": "execute_result"
    }
   ],
   "source": [
    "test_strategy(\"TSLA\", \"2000-01-01\", \"2020-01-01\", (50,200))"
   ]
  },
  {
   "cell_type": "code",
   "execution_count": 15,
   "metadata": {},
   "outputs": [
    {
     "name": "stdout",
     "output_type": "stream",
     "text": [
      "[*********************100%***********************]  1 of 1 completed\n"
     ]
    },
    {
     "data": {
      "text/plain": [
       "(4.766371508372407, 0.1878794718595858)"
      ]
     },
     "execution_count": 15,
     "metadata": {},
     "output_type": "execute_result"
    }
   ],
   "source": [
    "test_strategy(\"SPY\", \"2000-01-01\", \"2020-01-01\", (50,200))"
   ]
  },
  {
   "attachments": {},
   "cell_type": "markdown",
   "metadata": {},
   "source": [
    "### Creating our first class"
   ]
  },
  {
   "cell_type": "code",
   "execution_count": 16,
   "metadata": {},
   "outputs": [],
   "source": [
    "class SMABacktester():\n",
    "    def __init__(self, symbol, SMA_S, SMA_L, start, end):\n",
    "        self.symbol = symbol\n",
    "        self.SMA_S = SMA_S\n",
    "        self.SMA_L = SMA_L\n",
    "        self.start = start\n",
    "        self.end = end\n",
    "        self.result = None\n",
    "        self.get_data()\n",
    "    \n",
    "    def get_data(self):\n",
    "        df = yf.download(self.symbol, start = self.start, end = self.end)\n",
    "        data = df.Close.to_frame()\n",
    "        data[\"returns\"] = np.log(data.Close / data.Close.shift(1))\n",
    "        data[\"SMA_S\"] = data.Close.rolling(self.SMA_S).mean()\n",
    "        data[\"SMA_L\"] = data.Close.rolling(self.SMA_L).mean()\n",
    "        data.dropna(inplace=True)\n",
    "        self.data2 = data\n",
    "\n",
    "        return data\n",
    "    \n",
    "    def test_results(self):\n",
    "        data = self.data2.copy().dropna()\n",
    "        data['position'] = np.where(data[\"SMA_S\"] > data[\"SMA_L\"], 1, -1)\n",
    "        data['strategy'] = data['position'].shift(1) * data['returns']\n",
    "        data.dropna(inplace=True)\n",
    "        data[\"returnsb&h\"] = data[\"returns\"].cumsum().apply(np.exp)\n",
    "        data[\"returns_strategy\"] = data[\"strategy\"].cumsum().apply(np.exp)\n",
    "        perf = data[\"returns_strategy\"].iloc[-1]\n",
    "        outperf = perf - data[\"returnsb&h\"].iloc[-1]\n",
    "        self.results = data\n",
    "\n",
    "        ret=np.exp(data[\"strategy\"].sum())\n",
    "        std = data[\"strategy\"].std()*np.sqrt(252)\n",
    "\n",
    "        return round(perf, 6), round(outperf, 6)\n",
    "    \n",
    "    def plot_results(self):\n",
    "        if self.results is None:\n",
    "            print(\"Run the test please\")\n",
    "        else:\n",
    "            title: \"{}| SMA_S={} | SMA_L{}\".format(self.symbol, self.SMA_S, self.SMA_L)\n",
    "            self.results[['returnsb&h', 'returns_strategy']].plot(title=title, figsize=(12,8))"
   ]
  },
  {
   "cell_type": "code",
   "execution_count": 17,
   "metadata": {},
   "outputs": [
    {
     "name": "stdout",
     "output_type": "stream",
     "text": [
      "[*********************100%***********************]  1 of 1 completed\n"
     ]
    }
   ],
   "source": [
    "tester = SMABacktester(\"SPY\", 50, 100, \"2000-01-01\", \"2020-01-01\")"
   ]
  },
  {
   "cell_type": "code",
   "execution_count": 18,
   "metadata": {},
   "outputs": [
    {
     "data": {
      "text/plain": [
       "(2.592726, 0.297824)"
      ]
     },
     "execution_count": 18,
     "metadata": {},
     "output_type": "execute_result"
    }
   ],
   "source": [
    "tester.test_results()"
   ]
  }
 ],
 "metadata": {
  "kernelspec": {
   "display_name": "base",
   "language": "python",
   "name": "python3"
  },
  "language_info": {
   "codemirror_mode": {
    "name": "ipython",
    "version": 3
   },
   "file_extension": ".py",
   "mimetype": "text/x-python",
   "name": "python",
   "nbconvert_exporter": "python",
   "pygments_lexer": "ipython3",
   "version": "3.9.16"
  },
  "orig_nbformat": 4,
  "vscode": {
   "interpreter": {
    "hash": "ad2bdc8ecc057115af97d19610ffacc2b4e99fae6737bb82f5d7fb13d2f2c186"
   }
  }
 },
 "nbformat": 4,
 "nbformat_minor": 2
}
