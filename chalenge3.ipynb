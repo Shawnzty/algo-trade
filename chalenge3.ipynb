{
 "cells": [
  {
   "cell_type": "code",
   "execution_count": 69,
   "metadata": {},
   "outputs": [],
   "source": [
    "import yfinance as yf\n",
    "import pandas as pd\n",
    "import numpy as np\n",
    "import matplotlib.pyplot as plt\n",
    "import seaborn as sns\n",
    "%matplotlib inline"
   ]
  },
  {
   "attachments": {},
   "cell_type": "markdown",
   "metadata": {},
   "source": [
    "#### Find the best SMA for the top 5 stocks\n",
    "#### Create a bias stragety\n",
    "#### Compare drawdowns\n",
    "#### Pick the best 3 stocks for your portfolio"
   ]
  },
  {
   "cell_type": "code",
   "execution_count": 70,
   "metadata": {},
   "outputs": [],
   "source": [
    "start_date = \"2020-01-01\"\n",
    "end_date = \"2023-01-01\"\n",
    "sma_s = 50\n",
    "sma_l = 100"
   ]
  },
  {
   "cell_type": "code",
   "execution_count": 71,
   "metadata": {},
   "outputs": [],
   "source": [
    "def get_return_std(data, sma_s, sma_l):\n",
    "    data = data.Close\n",
    "    data = data.to_frame()\n",
    "    data[\"sma_s\"] = data.Close.rolling(sma_s).mean()\n",
    "    data[\"sma_l\"] = data.Close.rolling(sma_l).mean()\n",
    "    data.dropna(inplace=True)\n",
    "    data[\"position\"] = np.where(data[\"sma_s\"]>data[\"sma_l\"], 1, -1) # 1 = long, -1 = short\n",
    "    # data.loc[\"2016\",[\"sma_s\", \"sma_l\", \"position\"]].plot(figsize=(12,8), title=\"AAPL - SMA{} | SMA{}\".format(sma_s, sma_l), fontsize=12, secondary_y=\"position\")\n",
    "    data[\"returnb&h\"] = np.log(data.Close.div(data.Close.shift(1)))\n",
    "    data[\"strategy\"] = data[\"returnb&h\"]*data.position.shift(1)\n",
    "    data.dropna(inplace=True)\n",
    "    returns_sl = data[[\"returnb&h\", \"strategy\"]].sum().apply(np.exp) # what 1$ would be worth\n",
    "\n",
    "    data[\"position2\"] = np.where(data[\"sma_s\"]>data[\"sma_l\"], 1, 0) # 1 = long, 0 = flat\n",
    "    data[\"strategy2\"] = data[\"returnb&h\"]*data.position2.shift(1)\n",
    "    data.dropna(inplace=True)\n",
    "    returns_l = data[[ \"returnb&h\", \"strategy2\"]].sum().apply(np.exp) # what 1$ would be worth\n",
    "    std = data[[\"strategy\", \"strategy2\"]].std()*np.sqrt(252)\n",
    "\n",
    "    print(returns_sl)\n",
    "    print(returns_l)\n",
    "    print(std)\n",
    "    return returns_sl, returns_l, std"
   ]
  },
  {
   "cell_type": "code",
   "execution_count": 72,
   "metadata": {},
   "outputs": [
    {
     "name": "stdout",
     "output_type": "stream",
     "text": [
      "[*********************100%***********************]  1 of 1 completed\n",
      "returnb&h    1.640893\n",
      "strategy     2.163158\n",
      "dtype: float64\n",
      "returnb&h    1.633774\n",
      "strategy2    1.884014\n",
      "dtype: float64\n",
      "strategy     0.327246\n",
      "strategy2    0.268910\n",
      "dtype: float64\n"
     ]
    }
   ],
   "source": [
    "returns_sl, returns_l, std = get_return_std(yf.download(\"AAPL\", start=start_date, end=end_date), sma_s, sma_l)"
   ]
  },
  {
   "cell_type": "code",
   "execution_count": 73,
   "metadata": {},
   "outputs": [
    {
     "name": "stdout",
     "output_type": "stream",
     "text": [
      "[*********************100%***********************]  1 of 1 completed\n",
      "returnb&h    1.241478\n",
      "strategy     2.786951\n",
      "dtype: float64\n",
      "returnb&h    1.242431\n",
      "strategy2    1.860091\n",
      "dtype: float64\n",
      "strategy     0.313423\n",
      "strategy2    0.206787\n",
      "dtype: float64\n"
     ]
    }
   ],
   "source": [
    "returns_sl, returns_l, std = get_return_std(yf.download(\"GOOGL\", start=start_date, end=end_date), sma_s, sma_l)"
   ]
  },
  {
   "cell_type": "code",
   "execution_count": 74,
   "metadata": {},
   "outputs": [
    {
     "name": "stdout",
     "output_type": "stream",
     "text": [
      "[*********************100%***********************]  1 of 1 completed\n",
      "returnb&h    1.210339\n",
      "strategy     0.745320\n",
      "dtype: float64\n",
      "returnb&h    1.173896\n",
      "strategy2    0.949784\n",
      "dtype: float64\n",
      "strategy     0.250302\n",
      "strategy2    0.173490\n",
      "dtype: float64\n"
     ]
    }
   ],
   "source": [
    "returns_sl, returns_l, std = get_return_std(yf.download(\"IBM\", start=start_date, end=end_date), sma_s, sma_l)"
   ]
  },
  {
   "cell_type": "code",
   "execution_count": 75,
   "metadata": {},
   "outputs": [
    {
     "name": "stdout",
     "output_type": "stream",
     "text": [
      "[*********************100%***********************]  1 of 1 completed\n",
      "returnb&h    2.256402\n",
      "strategy     9.495800\n",
      "dtype: float64\n",
      "returnb&h    2.252661\n",
      "strategy2    4.621185\n",
      "dtype: float64\n",
      "strategy     0.653901\n",
      "strategy2    0.535146\n",
      "dtype: float64\n"
     ]
    }
   ],
   "source": [
    "returns_sl, returns_l, std = get_return_std(yf.download(\"TSLA\", start=start_date, end=end_date), sma_s, sma_l)"
   ]
  },
  {
   "cell_type": "code",
   "execution_count": 76,
   "metadata": {},
   "outputs": [
    {
     "name": "stdout",
     "output_type": "stream",
     "text": [
      "[*********************100%***********************]  1 of 1 completed\n",
      "returnb&h    1.320813\n",
      "strategy     1.587154\n",
      "dtype: float64\n",
      "returnb&h    1.319069\n",
      "strategy2    1.447872\n",
      "dtype: float64\n",
      "strategy     0.293996\n",
      "strategy2    0.219234\n",
      "dtype: float64\n"
     ]
    }
   ],
   "source": [
    "returns_sl, returns_l, std = get_return_std(yf.download(\"MSFT\", start=start_date, end=end_date), sma_s, sma_l)"
   ]
  },
  {
   "cell_type": "code",
   "execution_count": 77,
   "metadata": {},
   "outputs": [
    {
     "name": "stdout",
     "output_type": "stream",
     "text": [
      "[*********************100%***********************]  1 of 1 completed\n",
      "returnb&h    1.708248\n",
      "strategy     2.192551\n",
      "dtype: float64\n",
      "returnb&h    1.715380\n",
      "strategy2    1.935309\n",
      "dtype: float64\n",
      "strategy     0.424410\n",
      "strategy2    0.280317\n",
      "dtype: float64\n"
     ]
    }
   ],
   "source": [
    "returns_sl, returns_l, std = get_return_std(yf.download(\"ASML\", start=start_date, end=end_date), sma_s, sma_l)"
   ]
  },
  {
   "cell_type": "code",
   "execution_count": 78,
   "metadata": {},
   "outputs": [
    {
     "name": "stdout",
     "output_type": "stream",
     "text": [
      "[*********************100%***********************]  1 of 1 completed\n",
      "returnb&h    1.217710\n",
      "strategy     2.850113\n",
      "dtype: float64\n",
      "returnb&h    1.228100\n",
      "strategy2    1.878853\n",
      "dtype: float64\n",
      "strategy     0.525838\n",
      "strategy2    0.376509\n",
      "dtype: float64\n"
     ]
    }
   ],
   "source": [
    "returns_sl, returns_l, std = get_return_std(yf.download(\"AMD\", start=start_date, end=end_date), sma_s, sma_l)"
   ]
  },
  {
   "cell_type": "code",
   "execution_count": 79,
   "metadata": {},
   "outputs": [
    {
     "name": "stdout",
     "output_type": "stream",
     "text": [
      "[*********************100%***********************]  1 of 1 completed\n",
      "returnb&h    1.676350\n",
      "strategy     3.521318\n",
      "dtype: float64\n",
      "returnb&h    1.714202\n",
      "strategy2    2.484461\n",
      "dtype: float64\n",
      "strategy     0.520590\n",
      "strategy2    0.375209\n",
      "dtype: float64\n"
     ]
    }
   ],
   "source": [
    "returns_sl, returns_l, std = get_return_std(yf.download(\"NVDA\", start=start_date, end=end_date), sma_s, sma_l)"
   ]
  }
 ],
 "metadata": {
  "kernelspec": {
   "display_name": "base",
   "language": "python",
   "name": "python3"
  },
  "language_info": {
   "codemirror_mode": {
    "name": "ipython",
    "version": 3
   },
   "file_extension": ".py",
   "mimetype": "text/x-python",
   "name": "python",
   "nbconvert_exporter": "python",
   "pygments_lexer": "ipython3",
   "version": "3.9.13"
  },
  "orig_nbformat": 4,
  "vscode": {
   "interpreter": {
    "hash": "ade4b82e775129182a0a0ea19060f79f145841a23a6f838fb64ca47c6ddf0369"
   }
  }
 },
 "nbformat": 4,
 "nbformat_minor": 2
}
